{
 "cells": [
  {
   "cell_type": "code",
   "execution_count": null,
   "metadata": {
    "ExecuteTime": {
     "end_time": "2018-10-11T11:58:26.092908Z",
     "start_time": "2018-10-11T11:58:25.978905Z"
    }
   },
   "outputs": [],
   "source": [
    "import numpy as np\n",
    "import tensorflow as tf\n",
    "import matplotlib.pyplot as plt\n",
    "from tensorflow.examples.tutorials.mnist import input_data"
   ]
  },
  {
   "cell_type": "code",
   "execution_count": null,
   "metadata": {
    "ExecuteTime": {
     "end_time": "2018-10-11T11:58:26.097137Z",
     "start_time": "2018-10-11T11:58:25.980Z"
    }
   },
   "outputs": [],
   "source": [
    "mnist = input_data.read_data_sets(\"data/\", one_hot=True)\n",
    "test_images = mnist.test.images\n",
    "test_labels = mnist.test.labels"
   ]
  },
  {
   "cell_type": "code",
   "execution_count": null,
   "metadata": {
    "ExecuteTime": {
     "end_time": "2018-10-11T11:58:26.098223Z",
     "start_time": "2018-10-11T11:58:25.981Z"
    }
   },
   "outputs": [],
   "source": [
    "# constant\n",
    "\n",
    "num_inputs = 784  # 28*28\n",
    "num_units = 256\n",
    "num_outputs = 10\n",
    "num_layers = 1\n",
    "batch_size = 64\n",
    "learning_rate = 0.001\n",
    "num_epocs = 5000\n",
    "step_to_print = 10"
   ]
  },
  {
   "cell_type": "code",
   "execution_count": null,
   "metadata": {
    "ExecuteTime": {
     "end_time": "2018-10-11T11:58:26.099142Z",
     "start_time": "2018-10-11T11:58:25.983Z"
    }
   },
   "outputs": [],
   "source": [
    "myfloat = tf.float32\n"
   ]
  },
  {
   "cell_type": "code",
   "execution_count": null,
   "metadata": {
    "ExecuteTime": {
     "end_time": "2018-10-11T11:58:26.099806Z",
     "start_time": "2018-10-11T11:58:25.983Z"
    }
   },
   "outputs": [],
   "source": [
    "x = tf.placeholder(dtype=myfloat, shape=[None, num_inputs])\n",
    "y = tf.placeholder(dtype=myfloat, shape=[None, num_outputs])"
   ]
  },
  {
   "cell_type": "code",
   "execution_count": null,
   "metadata": {
    "ExecuteTime": {
     "end_time": "2018-10-11T11:58:26.100574Z",
     "start_time": "2018-10-11T11:58:25.985Z"
    }
   },
   "outputs": [],
   "source": [
    "# 一層\n",
    "w_1 = tf.Variable(tf.truncated_normal([num_inputs, num_units], stddev=0.1), dtype=myfloat, name='w_1')\n",
    "b_1 = tf.Variable(tf.zeros([num_units]), dtype=myfloat, name='b_1')\n",
    "h_1 = tf.nn.relu(tf.matmul(x, w_1) + b_1)"
   ]
  },
  {
   "cell_type": "code",
   "execution_count": null,
   "metadata": {
    "ExecuteTime": {
     "end_time": "2018-10-11T11:58:26.101283Z",
     "start_time": "2018-10-11T11:58:25.986Z"
    }
   },
   "outputs": [],
   "source": [
    "w_2 = tf.Variable(tf.truncated_normal([num_units, num_units], stddev=0.1), dtype=myfloat, name='w_2')\n",
    "b_2 = tf.Variable(tf.zeros([num_units]), dtype=myfloat, name='b_2')\n",
    "h_2 = tf.nn.relu(tf.matmul(h_1, w_2) + b_2)\n",
    "w_3 = tf.Variable(tf.truncated_normal([num_units, num_outputs], stddev=0.1), dtype=myfloat, name='w_3')\n",
    "b_3 = tf.Variable(tf.zeros([num_outputs]), dtype=myfloat, name='b_3')\n",
    "out = tf.nn.softmax(tf.matmul(h_2, w_3) + b_3)"
   ]
  },
  {
   "cell_type": "code",
   "execution_count": null,
   "metadata": {
    "ExecuteTime": {
     "end_time": "2018-10-11T11:58:26.102886Z",
     "start_time": "2018-10-11T11:58:25.987Z"
    }
   },
   "outputs": [],
   "source": [
    "train_loss = tf.reduce_sum(tf.square(y - out))\n",
    "optimizer = tf.train.AdamOptimizer(learning_rate)\n",
    "params = tf.trainable_variables()\n",
    "gradients = tf.gradients(train_loss, params)\n",
    "\n",
    "training = optimizer.apply_gradients(zip(gradients, params))\n",
    "\n",
    "grad_norm = [tf.norm(g) for g in gradients]\n",
    "grad_norm_sum = tf.reduce_sum(grad_norm)"
   ]
  },
  {
   "cell_type": "code",
   "execution_count": null,
   "metadata": {
    "ExecuteTime": {
     "end_time": "2018-10-11T11:58:26.103519Z",
     "start_time": "2018-10-11T11:58:25.988Z"
    }
   },
   "outputs": [],
   "source": [
    "correct = tf.equal(tf.argmax(out, 1), tf.argmax(y, 1))\n",
    "accuracy = tf.reduce_mean(tf.cast(correct, myfloat))"
   ]
  },
  {
   "cell_type": "code",
   "execution_count": null,
   "metadata": {
    "ExecuteTime": {
     "end_time": "2018-10-11T11:58:26.104338Z",
     "start_time": "2018-10-11T11:58:25.989Z"
    }
   },
   "outputs": [],
   "source": [
    "init = tf.global_variables_initializer()\n",
    "with tf.name_scope('summary'):\n",
    "    summary_loss = tf.summary.scalar('loss', train_loss)\n",
    "    summary_grad = tf.summary.scalar('gradients', grad_norm_sum)\n",
    "    summary_acc = tf.summary.scalar('accuracy', accuracy)\n",
    "    merged_summary = tf.summary.merge_all()"
   ]
  },
  {
   "cell_type": "code",
   "execution_count": null,
   "metadata": {
    "ExecuteTime": {
     "end_time": "2018-10-11T11:58:26.105500Z",
     "start_time": "2018-10-11T11:58:25.990Z"
    }
   },
   "outputs": [],
   "source": [
    "from datetime import datetime\n",
    "now = datetime.now()\n",
    "logdir = 'logs/mnist_dnn/'"
   ]
  },
  {
   "cell_type": "code",
   "execution_count": null,
   "metadata": {
    "ExecuteTime": {
     "end_time": "2018-10-11T11:58:26.106818Z",
     "start_time": "2018-10-11T11:58:25.992Z"
    },
    "lines_to_next_cell": 0
   },
   "outputs": [],
   "source": [
    "logdir = logdir + now.strftime(\"%Y%m%d-%H%M%S\") + \"/\"\n",
    "with tf.Session() as sess:\n",
    "    writer = tf.summary.FileWriter(logdir, sess.graph)\n",
    "    sess.run(init)\n",
    "    for e in range(num_epocs):\n",
    "        xdata, ydata = mnist.train.next_batch(batch_size)\n",
    "        l, _, smr = sess.run([train_loss, training, merged_summary], feed_dict={\n",
    "            x: xdata,\n",
    "            y: ydata\n",
    "        })\n",
    "        if e % step_to_print == 0:\n",
    "            acc = sess.run(accuracy, feed_dict={\n",
    "                x: test_images,\n",
    "                y: test_labels\n",
    "            })\n",
    "            print('step :', e, ', loss :', l, ', accuracy: ', acc)\n",
    "        writer.add_summary(smr, e)\n",
    "    writer.close()            \n",
    "    "
   ]
  },
  {
   "cell_type": "code",
   "execution_count": null,
   "metadata": {
    "lines_to_next_cell": 2
   },
   "outputs": [],
   "source": []
  }
 ],
 "metadata": {
  "jupytext": {
   "formats": "ipynb,py:light",
   "text_representation": {
    "extension": ".py",
    "format_name": "light",
    "format_version": "1.3",
    "jupytext_version": "0.8.1"
   }
  },
  "kernelspec": {
   "display_name": "Python 3",
   "language": "python",
   "name": "python3"
  },
  "language_info": {
   "codemirror_mode": {
    "name": "ipython",
    "version": 3
   },
   "file_extension": ".py",
   "mimetype": "text/x-python",
   "name": "python",
   "nbconvert_exporter": "python",
   "pygments_lexer": "ipython3",
   "version": "3.6.5"
  },
  "varInspector": {
   "cols": {
    "lenName": 16,
    "lenType": 16,
    "lenVar": 40
   },
   "kernels_config": {
    "python": {
     "delete_cmd_postfix": "",
     "delete_cmd_prefix": "del ",
     "library": "var_list.py",
     "varRefreshCmd": "print(var_dic_list())"
    },
    "r": {
     "delete_cmd_postfix": ") ",
     "delete_cmd_prefix": "rm(",
     "library": "var_list.r",
     "varRefreshCmd": "cat(var_dic_list()) "
    }
   },
   "types_to_exclude": [
    "module",
    "function",
    "builtin_function_or_method",
    "instance",
    "_Feature"
   ],
   "window_display": false
  }
 },
 "nbformat": 4,
 "nbformat_minor": 2
}
